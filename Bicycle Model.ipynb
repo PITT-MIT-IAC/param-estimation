{
 "cells": [
  {
   "cell_type": "code",
   "execution_count": 2,
   "metadata": {},
   "outputs": [],
   "source": [
    "from scipy.integrate import odeint\n",
    "from scipy.optimize import minimize\n",
    "import numpy as np\n",
    "import matplotlib.pyplot as plt\n",
    "import math"
   ]
  },
  {
   "cell_type": "code",
   "execution_count": 4,
   "metadata": {},
   "outputs": [],
   "source": [
    "def tire_force(alpha, Fz, p):\n",
    "    m, l, lf, lr, Iz, cornering_stiff, sample_fz, rho, cla, g = p\n",
    "    return -alpha * cornering_stiff * Fz / sample_fz\n",
    "\n",
    "def normal_force(vx, p):\n",
    "    m, l, lf, lr, Iz, cornering_stiff, sample_fz, rho, cla, g = p # params of the car\n",
    "    # traction due to aero\n",
    "    F_lift = 0.5*rho*cla*(vx**2)\n",
    "    FzF = -(lr * (m * g + F_lift)) / l;\n",
    "    FzR = -(lf * (m * g + F_lift)) / l;\n",
    "    \n",
    "    return FzF, FzR\n",
    "\n",
    "def bicycle_model(u, t, p):\n",
    "    x, y, psi, vx, vy, r, steer, D, delta = u  # x and u\n",
    "    m, l, lf, lr, Iz, cornering_stiff, sample_fz, rho, cla, g = p # params of the car\n",
    "    \n",
    "    # estimate normal\n",
    "    FzF, FzR = normal_force(vx, p)\n",
    "    \n",
    "    # compute slip angles\n",
    "    alpha_f = math.atan((vy + r * lf) / vx) + steer\n",
    "    alpha_r = math.atan((vy - r * lr) / vx)\n",
    "    \n",
    "    # compute tire forces\n",
    "    F_yf = tire_force(alpha_f, FzF, p)\n",
    "    F_yr = tire_foce(alpha_r, FzR, p)\n",
    "    \n",
    "    # torque to force\n",
    "    F_net = m * D\n",
    "    \n",
    "    # torque vectoring\n",
    "    F_xf = lf / l * F_net\n",
    "    F_xr = lr / l * F_net\n",
    "    \n",
    "    # accel\n",
    "    ax = 1/m * (F_xr + F_xf * math.cos(steer) + F_yf * math.sin(steer)) + r * vy\n",
    "    ay = 1/m * (F_yr - F_xf * math.sin(steer) + F_yf * math.cos(steer)) - r * vx\n",
    "    a_yaw = 1/Iz * (-lf * F_xf * math.sin(steer) + lf * F_yf * math.cos(steer) - lr * F_yr)\n",
    "    \n",
    "    # bicycle model\n",
    "    new_x = vx * math.cos(psi) - vy * math.sin(psi)  # sin/cos(x), x should be radians.. not sure if our data is in deg/rad\n",
    "    new_y = vx * math.sin(psi) + vy * math.cos(psi)\n",
    "    return [new_x, new_y, r, ax, ay, a_yaw, delta]\n",
    "    "
   ]
  },
  {
   "cell_type": "code",
   "execution_count": null,
   "metadata": {},
   "outputs": [],
   "source": []
  }
 ],
 "metadata": {
  "kernelspec": {
   "display_name": "Python 3",
   "language": "python",
   "name": "python3"
  },
  "language_info": {
   "codemirror_mode": {
    "name": "ipython",
    "version": 3
   },
   "file_extension": ".py",
   "mimetype": "text/x-python",
   "name": "python",
   "nbconvert_exporter": "python",
   "pygments_lexer": "ipython3",
   "version": "3.8.5"
  }
 },
 "nbformat": 4,
 "nbformat_minor": 2
}
