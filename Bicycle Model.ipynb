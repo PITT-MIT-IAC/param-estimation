{
 "cells": [
  {
   "cell_type": "code",
   "execution_count": 327,
   "metadata": {},
   "outputs": [],
   "source": [
    "from scipy.integrate import odeint\n",
    "from scipy.optimize import minimize\n",
    "from scipy.io import loadmat\n",
    "import numpy as np\n",
    "import matplotlib.pyplot as plt\n",
    "import pandas as pd\n",
    "import math\n",
    "import random"
   ]
  },
  {
   "cell_type": "markdown",
   "metadata": {},
   "source": [
    "# Import Data from CSV"
   ]
  },
  {
   "cell_type": "code",
   "execution_count": 328,
   "metadata": {},
   "outputs": [],
   "source": [
    "data = pd.read_csv('20210201_parsed_run3_data.csv',index_col=0)\n",
    "data['time'] -= 275.036 # let's start at 0 this shouldnt make a difference"
   ]
  },
  {
   "cell_type": "code",
   "execution_count": 329,
   "metadata": {
    "scrolled": true
   },
   "outputs": [
    {
     "data": {
      "text/html": [
       "<div>\n",
       "<style scoped>\n",
       "    .dataframe tbody tr th:only-of-type {\n",
       "        vertical-align: middle;\n",
       "    }\n",
       "\n",
       "    .dataframe tbody tr th {\n",
       "        vertical-align: top;\n",
       "    }\n",
       "\n",
       "    .dataframe thead th {\n",
       "        text-align: right;\n",
       "    }\n",
       "</style>\n",
       "<table border=\"1\" class=\"dataframe\">\n",
       "  <thead>\n",
       "    <tr style=\"text-align: right;\">\n",
       "      <th></th>\n",
       "      <th>time</th>\n",
       "      <th>x</th>\n",
       "      <th>y</th>\n",
       "      <th>psi</th>\n",
       "      <th>vx</th>\n",
       "      <th>vy</th>\n",
       "      <th>r</th>\n",
       "      <th>steer</th>\n",
       "      <th>D</th>\n",
       "      <th>real_ax</th>\n",
       "      <th>real_ay</th>\n",
       "    </tr>\n",
       "  </thead>\n",
       "  <tbody>\n",
       "    <tr>\n",
       "      <th>0</th>\n",
       "      <td>0.00</td>\n",
       "      <td>-101.308861</td>\n",
       "      <td>19.530313</td>\n",
       "      <td>-2.566862</td>\n",
       "      <td>14.049075</td>\n",
       "      <td>0.064813</td>\n",
       "      <td>-0.00306</td>\n",
       "      <td>0.001073</td>\n",
       "      <td>-0.419252</td>\n",
       "      <td>-0.2477</td>\n",
       "      <td>0.5202</td>\n",
       "    </tr>\n",
       "    <tr>\n",
       "      <th>1</th>\n",
       "      <td>0.04</td>\n",
       "      <td>-101.002190</td>\n",
       "      <td>19.059580</td>\n",
       "      <td>-2.566963</td>\n",
       "      <td>14.046067</td>\n",
       "      <td>0.070796</td>\n",
       "      <td>-0.00887</td>\n",
       "      <td>0.001056</td>\n",
       "      <td>-0.419129</td>\n",
       "      <td>-0.1003</td>\n",
       "      <td>0.1653</td>\n",
       "    </tr>\n",
       "    <tr>\n",
       "      <th>2</th>\n",
       "      <td>0.08</td>\n",
       "      <td>-100.695587</td>\n",
       "      <td>18.588818</td>\n",
       "      <td>-2.567172</td>\n",
       "      <td>14.046994</td>\n",
       "      <td>0.067643</td>\n",
       "      <td>-0.00909</td>\n",
       "      <td>0.001126</td>\n",
       "      <td>-0.413074</td>\n",
       "      <td>-0.0117</td>\n",
       "      <td>0.0054</td>\n",
       "    </tr>\n",
       "    <tr>\n",
       "      <th>3</th>\n",
       "      <td>0.12</td>\n",
       "      <td>-100.389305</td>\n",
       "      <td>18.117285</td>\n",
       "      <td>-2.567444</td>\n",
       "      <td>14.055491</td>\n",
       "      <td>0.059404</td>\n",
       "      <td>-0.01306</td>\n",
       "      <td>0.001246</td>\n",
       "      <td>-0.449214</td>\n",
       "      <td>-0.0894</td>\n",
       "      <td>-0.0761</td>\n",
       "    </tr>\n",
       "    <tr>\n",
       "      <th>4</th>\n",
       "      <td>0.16</td>\n",
       "      <td>-100.082977</td>\n",
       "      <td>17.645878</td>\n",
       "      <td>-2.567532</td>\n",
       "      <td>14.051016</td>\n",
       "      <td>0.066986</td>\n",
       "      <td>0.00144</td>\n",
       "      <td>0.001262</td>\n",
       "      <td>-0.433608</td>\n",
       "      <td>-0.0839</td>\n",
       "      <td>0.5010</td>\n",
       "    </tr>\n",
       "  </tbody>\n",
       "</table>\n",
       "</div>"
      ],
      "text/plain": [
       "   time           x          y       psi         vx        vy        r  \\\n",
       "0  0.00 -101.308861  19.530313 -2.566862  14.049075  0.064813 -0.00306   \n",
       "1  0.04 -101.002190  19.059580 -2.566963  14.046067  0.070796 -0.00887   \n",
       "2  0.08 -100.695587  18.588818 -2.567172  14.046994  0.067643 -0.00909   \n",
       "3  0.12 -100.389305  18.117285 -2.567444  14.055491  0.059404 -0.01306   \n",
       "4  0.16 -100.082977  17.645878 -2.567532  14.051016  0.066986  0.00144   \n",
       "\n",
       "      steer         D  real_ax  real_ay  \n",
       "0  0.001073 -0.419252  -0.2477   0.5202  \n",
       "1  0.001056 -0.419129  -0.1003   0.1653  \n",
       "2  0.001126 -0.413074  -0.0117   0.0054  \n",
       "3  0.001246 -0.449214  -0.0894  -0.0761  \n",
       "4  0.001262 -0.433608  -0.0839   0.5010  "
      ]
     },
     "execution_count": 329,
     "metadata": {},
     "output_type": "execute_result"
    }
   ],
   "source": [
    "data.head()"
   ]
  },
  {
   "cell_type": "code",
   "execution_count": 330,
   "metadata": {},
   "outputs": [
    {
     "data": {
      "text/html": [
       "<div>\n",
       "<style scoped>\n",
       "    .dataframe tbody tr th:only-of-type {\n",
       "        vertical-align: middle;\n",
       "    }\n",
       "\n",
       "    .dataframe tbody tr th {\n",
       "        vertical-align: top;\n",
       "    }\n",
       "\n",
       "    .dataframe thead th {\n",
       "        text-align: right;\n",
       "    }\n",
       "</style>\n",
       "<table border=\"1\" class=\"dataframe\">\n",
       "  <thead>\n",
       "    <tr style=\"text-align: right;\">\n",
       "      <th></th>\n",
       "      <th>time</th>\n",
       "      <th>x</th>\n",
       "      <th>y</th>\n",
       "      <th>psi</th>\n",
       "      <th>vx</th>\n",
       "      <th>vy</th>\n",
       "      <th>r</th>\n",
       "      <th>steer</th>\n",
       "      <th>D</th>\n",
       "      <th>real_ax</th>\n",
       "      <th>real_ay</th>\n",
       "    </tr>\n",
       "  </thead>\n",
       "  <tbody>\n",
       "    <tr>\n",
       "      <th>7995</th>\n",
       "      <td>319.80</td>\n",
       "      <td>-167.020935</td>\n",
       "      <td>120.190155</td>\n",
       "      <td>-2.566120</td>\n",
       "      <td>13.627166</td>\n",
       "      <td>0.029047</td>\n",
       "      <td>-0.02381</td>\n",
       "      <td>-0.002339</td>\n",
       "      <td>-4.265322</td>\n",
       "      <td>-5.6695</td>\n",
       "      <td>-0.0485</td>\n",
       "    </tr>\n",
       "    <tr>\n",
       "      <th>7996</th>\n",
       "      <td>319.84</td>\n",
       "      <td>-166.724564</td>\n",
       "      <td>119.735992</td>\n",
       "      <td>-2.567150</td>\n",
       "      <td>13.422322</td>\n",
       "      <td>0.042470</td>\n",
       "      <td>-0.02686</td>\n",
       "      <td>-0.001983</td>\n",
       "      <td>-4.274560</td>\n",
       "      <td>-4.9157</td>\n",
       "      <td>0.0203</td>\n",
       "    </tr>\n",
       "    <tr>\n",
       "      <th>7997</th>\n",
       "      <td>319.88</td>\n",
       "      <td>-166.433014</td>\n",
       "      <td>119.288536</td>\n",
       "      <td>-2.568222</td>\n",
       "      <td>13.224626</td>\n",
       "      <td>0.034855</td>\n",
       "      <td>-0.02117</td>\n",
       "      <td>-0.001433</td>\n",
       "      <td>-4.278177</td>\n",
       "      <td>-5.2175</td>\n",
       "      <td>-0.7925</td>\n",
       "    </tr>\n",
       "    <tr>\n",
       "      <th>7998</th>\n",
       "      <td>319.92</td>\n",
       "      <td>-166.146347</td>\n",
       "      <td>118.847389</td>\n",
       "      <td>-2.569167</td>\n",
       "      <td>13.019039</td>\n",
       "      <td>0.037049</td>\n",
       "      <td>-0.01664</td>\n",
       "      <td>-0.000933</td>\n",
       "      <td>-4.222267</td>\n",
       "      <td>-5.6539</td>\n",
       "      <td>0.3684</td>\n",
       "    </tr>\n",
       "    <tr>\n",
       "      <th>7999</th>\n",
       "      <td>319.96</td>\n",
       "      <td>-165.864517</td>\n",
       "      <td>118.413170</td>\n",
       "      <td>-2.569713</td>\n",
       "      <td>12.801240</td>\n",
       "      <td>0.051131</td>\n",
       "      <td>-0.01218</td>\n",
       "      <td>-0.000684</td>\n",
       "      <td>-4.165312</td>\n",
       "      <td>-5.8320</td>\n",
       "      <td>0.4159</td>\n",
       "    </tr>\n",
       "  </tbody>\n",
       "</table>\n",
       "</div>"
      ],
      "text/plain": [
       "        time           x           y       psi         vx        vy        r  \\\n",
       "7995  319.80 -167.020935  120.190155 -2.566120  13.627166  0.029047 -0.02381   \n",
       "7996  319.84 -166.724564  119.735992 -2.567150  13.422322  0.042470 -0.02686   \n",
       "7997  319.88 -166.433014  119.288536 -2.568222  13.224626  0.034855 -0.02117   \n",
       "7998  319.92 -166.146347  118.847389 -2.569167  13.019039  0.037049 -0.01664   \n",
       "7999  319.96 -165.864517  118.413170 -2.569713  12.801240  0.051131 -0.01218   \n",
       "\n",
       "         steer         D  real_ax  real_ay  \n",
       "7995 -0.002339 -4.265322  -5.6695  -0.0485  \n",
       "7996 -0.001983 -4.274560  -4.9157   0.0203  \n",
       "7997 -0.001433 -4.278177  -5.2175  -0.7925  \n",
       "7998 -0.000933 -4.222267  -5.6539   0.3684  \n",
       "7999 -0.000684 -4.165312  -5.8320   0.4159  "
      ]
     },
     "execution_count": 330,
     "metadata": {},
     "output_type": "execute_result"
    }
   ],
   "source": [
    "data.tail()"
   ]
  },
  {
   "cell_type": "code",
   "execution_count": 331,
   "metadata": {},
   "outputs": [
    {
     "data": {
      "text/plain": [
       "0.0012617015647122"
      ]
     },
     "execution_count": 331,
     "metadata": {},
     "output_type": "execute_result"
    }
   ],
   "source": [
    "data['steer'][4]"
   ]
  },
  {
   "cell_type": "markdown",
   "metadata": {},
   "source": [
    "# Bicycle Model"
   ]
  },
  {
   "cell_type": "code",
   "execution_count": 410,
   "metadata": {},
   "outputs": [],
   "source": [
    "def tire_force(alpha, Fz, p):\n",
    "    m, l, lf, lr, Iz, cornering_stiff, sample_fz, rho, cla = p\n",
    "    return -alpha * cornering_stiff * Fz / sample_fz\n",
    "\n",
    "def normal_force(vx, p):\n",
    "    g = 9.8\n",
    "    m, l, lf, lr, Iz, cornering_stiff, sample_fz, rho, cla = p # params of the car\n",
    "    # traction due to aero\n",
    "    F_lift = 0.5*rho*cla*(vx**2)\n",
    "    FzF = -(lr * (m * g + F_lift)) / l;\n",
    "    FzR = -(lf * (m * g + F_lift)) / l;\n",
    "    \n",
    "    return FzF, FzR\n",
    "\n",
    "def bicycle_model(x, t, p):\n",
    "    x, y, psi, vx, vy, r = x  # position\n",
    "    D, steer = data['D'][int(t / 0.04)], data['steer'][int(t / 0.04)] # we will just take these based off the t input\n",
    "    m, l, lf, lr, Iz, cornering_stiff, sample_fz, rho, cla = p # params of the car\n",
    "    \n",
    "    # estimate normal\n",
    "    FzF, FzR = normal_force(vx, p)\n",
    "    \n",
    "    # compute slip angles\n",
    "    alpha_f = math.atan((vy + r * lf) / vx) + steer\n",
    "    alpha_r = math.atan((vy - r * lr) / vx)\n",
    "    \n",
    "    # compute tire forces\n",
    "    F_yf = tire_force(alpha_f, FzF, p)\n",
    "    F_yr = tire_force(alpha_r, FzR, p)\n",
    "    \n",
    "    # torque to force\n",
    "    F_net = m * D\n",
    "    \n",
    "    # torque vectoring\n",
    "    F_xf = lf / l * F_net\n",
    "    F_xr = lr / l * F_net\n",
    "    \n",
    "    # accel\n",
    "    ax = 1/m * (F_xr + F_xf * math.cos(steer) + F_yf * math.sin(steer)) + r * vy\n",
    "    ay = 1/m * (F_yr - F_xf * math.sin(steer) + F_yf * math.cos(steer)) - r * vx\n",
    "    a_yaw = 1/Iz * (-lf * F_xf * math.sin(steer) + lf * F_yf * math.cos(steer) - lr * F_yr)\n",
    "    \n",
    "    # bicycle model\n",
    "    new_x = vx * math.cos(psi) - vy * math.sin(psi)  # sin/cos(x), x should be radians.. not sure if our data is in deg/rad\n",
    "    new_y = vx * math.sin(psi) + vy * math.cos(psi)\n",
    "    \n",
    "    return [new_x, new_y, r, ax, ay, a_yaw]\n",
    "    "
   ]
  },
  {
   "cell_type": "code",
   "execution_count": 411,
   "metadata": {},
   "outputs": [],
   "source": [
    "# defining our variables for our simulated data\n",
    "u0 = [data[c][0] for c in data.columns[1:7]]\n",
    "timespan = 10\n",
    "num_pts = 25*timespan + 1\n",
    "t = np.linspace(0, timespan, num_pts)\n",
    "p0 = (m, l, lf, lr, Iz, cornering_stiff, sample_fz, rho, cla) = (350.0, 3.0, 1.5, 1.5, 550.0, 10000.0, 3430.0, 1.2, -0.5)"
   ]
  },
  {
   "cell_type": "code",
   "execution_count": 412,
   "metadata": {},
   "outputs": [],
   "source": [
    "sol = odeint(bicycle_model, u0, t, args=(p0,))"
   ]
  },
  {
   "cell_type": "code",
   "execution_count": 414,
   "metadata": {},
   "outputs": [
    {
     "data": {
      "image/png": "[encoded data removed]",
      "text/plain": [
       "<Figure size 432x288 with 1 Axes>"
      ]
     },
     "metadata": {
      "needs_background": "light"
     },
     "output_type": "display_data"
    }
   ],
   "source": [
    "# let's plot this solution to see what it looks like against the real\n",
    "plt.plot(t, sol[:, 0], 'r', label='model output x')\n",
    "plt.plot(t, data['x'][:num_pts], 'tomato', label='real x')\n",
    "plt.plot(t, sol[:, 1], 'b', label='model output y')\n",
    "plt.plot(t, data['y'][:num_pts], 'dodgerblue', label='real y')\n",
    "plt.plot(t, sol[:, 2], 'g', label='model output psi')\n",
    "plt.plot(t, data['psi'][:num_pts], 'springgreen', label='real psi')\n",
    "\n",
    "\n",
    "plt.legend(loc='best')\n",
    "plt.xlabel('t')\n",
    "plt.show()"
   ]
  },
  {
   "cell_type": "code",
   "execution_count": 416,
   "metadata": {},
   "outputs": [
    {
     "data": {
      "image/png": "[encoded data removed]",
      "text/plain": [
       "<Figure size 432x288 with 1 Axes>"
      ]
     },
     "metadata": {
      "needs_background": "light"
     },
     "output_type": "display_data"
    }
   ],
   "source": [
    "# let's plot just the xy trajectory\n",
    "plt.plot(sol[:, 0], sol[:, 1], 'darkviolet', label='model output trajectory')\n",
    "plt.plot(data['x'][:num_pts], data['y'][:num_pts], 'violet', label='real trajectory')\n",
    "plt.legend(loc='best')\n",
    "plt.xlabel('x')\n",
    "plt.ylabel('y')\n",
    "plt.show()"
   ]
  },
  {
   "cell_type": "markdown",
   "metadata": {},
   "source": [
    "# Parameter Estimation"
   ]
  },
  {
   "cell_type": "code",
   "execution_count": 417,
   "metadata": {},
   "outputs": [
    {
     "data": {
      "text/html": [
       "<div>\n",
       "<style scoped>\n",
       "    .dataframe tbody tr th:only-of-type {\n",
       "        vertical-align: middle;\n",
       "    }\n",
       "\n",
       "    .dataframe tbody tr th {\n",
       "        vertical-align: top;\n",
       "    }\n",
       "\n",
       "    .dataframe thead th {\n",
       "        text-align: right;\n",
       "    }\n",
       "</style>\n",
       "<table border=\"1\" class=\"dataframe\">\n",
       "  <thead>\n",
       "    <tr style=\"text-align: right;\">\n",
       "      <th></th>\n",
       "      <th>time</th>\n",
       "      <th>x</th>\n",
       "      <th>y</th>\n",
       "      <th>psi</th>\n",
       "      <th>vx</th>\n",
       "      <th>vy</th>\n",
       "      <th>r</th>\n",
       "      <th>steer</th>\n",
       "      <th>D</th>\n",
       "      <th>real_ax</th>\n",
       "      <th>real_ay</th>\n",
       "    </tr>\n",
       "  </thead>\n",
       "  <tbody>\n",
       "    <tr>\n",
       "      <th>0</th>\n",
       "      <td>0.00</td>\n",
       "      <td>-101.308861</td>\n",
       "      <td>19.530313</td>\n",
       "      <td>-2.566862</td>\n",
       "      <td>14.049075</td>\n",
       "      <td>0.064813</td>\n",
       "      <td>-0.00306</td>\n",
       "      <td>0.001073</td>\n",
       "      <td>-0.419252</td>\n",
       "      <td>-0.2477</td>\n",
       "      <td>0.5202</td>\n",
       "    </tr>\n",
       "    <tr>\n",
       "      <th>1</th>\n",
       "      <td>0.04</td>\n",
       "      <td>-101.002190</td>\n",
       "      <td>19.059580</td>\n",
       "      <td>-2.566963</td>\n",
       "      <td>14.046067</td>\n",
       "      <td>0.070796</td>\n",
       "      <td>-0.00887</td>\n",
       "      <td>0.001056</td>\n",
       "      <td>-0.419129</td>\n",
       "      <td>-0.1003</td>\n",
       "      <td>0.1653</td>\n",
       "    </tr>\n",
       "    <tr>\n",
       "      <th>2</th>\n",
       "      <td>0.08</td>\n",
       "      <td>-100.695587</td>\n",
       "      <td>18.588818</td>\n",
       "      <td>-2.567172</td>\n",
       "      <td>14.046994</td>\n",
       "      <td>0.067643</td>\n",
       "      <td>-0.00909</td>\n",
       "      <td>0.001126</td>\n",
       "      <td>-0.413074</td>\n",
       "      <td>-0.0117</td>\n",
       "      <td>0.0054</td>\n",
       "    </tr>\n",
       "    <tr>\n",
       "      <th>3</th>\n",
       "      <td>0.12</td>\n",
       "      <td>-100.389305</td>\n",
       "      <td>18.117285</td>\n",
       "      <td>-2.567444</td>\n",
       "      <td>14.055491</td>\n",
       "      <td>0.059404</td>\n",
       "      <td>-0.01306</td>\n",
       "      <td>0.001246</td>\n",
       "      <td>-0.449214</td>\n",
       "      <td>-0.0894</td>\n",
       "      <td>-0.0761</td>\n",
       "    </tr>\n",
       "    <tr>\n",
       "      <th>4</th>\n",
       "      <td>0.16</td>\n",
       "      <td>-100.082977</td>\n",
       "      <td>17.645878</td>\n",
       "      <td>-2.567532</td>\n",
       "      <td>14.051016</td>\n",
       "      <td>0.066986</td>\n",
       "      <td>0.00144</td>\n",
       "      <td>0.001262</td>\n",
       "      <td>-0.433608</td>\n",
       "      <td>-0.0839</td>\n",
       "      <td>0.5010</td>\n",
       "    </tr>\n",
       "    <tr>\n",
       "      <th>...</th>\n",
       "      <td>...</td>\n",
       "      <td>...</td>\n",
       "      <td>...</td>\n",
       "      <td>...</td>\n",
       "      <td>...</td>\n",
       "      <td>...</td>\n",
       "      <td>...</td>\n",
       "      <td>...</td>\n",
       "      <td>...</td>\n",
       "      <td>...</td>\n",
       "      <td>...</td>\n",
       "    </tr>\n",
       "    <tr>\n",
       "      <th>7995</th>\n",
       "      <td>319.80</td>\n",
       "      <td>-167.020935</td>\n",
       "      <td>120.190155</td>\n",
       "      <td>-2.566120</td>\n",
       "      <td>13.627166</td>\n",
       "      <td>0.029047</td>\n",
       "      <td>-0.02381</td>\n",
       "      <td>-0.002339</td>\n",
       "      <td>-4.265322</td>\n",
       "      <td>-5.6695</td>\n",
       "      <td>-0.0485</td>\n",
       "    </tr>\n",
       "    <tr>\n",
       "      <th>7996</th>\n",
       "      <td>319.84</td>\n",
       "      <td>-166.724564</td>\n",
       "      <td>119.735992</td>\n",
       "      <td>-2.567150</td>\n",
       "      <td>13.422322</td>\n",
       "      <td>0.042470</td>\n",
       "      <td>-0.02686</td>\n",
       "      <td>-0.001983</td>\n",
       "      <td>-4.274560</td>\n",
       "      <td>-4.9157</td>\n",
       "      <td>0.0203</td>\n",
       "    </tr>\n",
       "    <tr>\n",
       "      <th>7997</th>\n",
       "      <td>319.88</td>\n",
       "      <td>-166.433014</td>\n",
       "      <td>119.288536</td>\n",
       "      <td>-2.568222</td>\n",
       "      <td>13.224626</td>\n",
       "      <td>0.034855</td>\n",
       "      <td>-0.02117</td>\n",
       "      <td>-0.001433</td>\n",
       "      <td>-4.278177</td>\n",
       "      <td>-5.2175</td>\n",
       "      <td>-0.7925</td>\n",
       "    </tr>\n",
       "    <tr>\n",
       "      <th>7998</th>\n",
       "      <td>319.92</td>\n",
       "      <td>-166.146347</td>\n",
       "      <td>118.847389</td>\n",
       "      <td>-2.569167</td>\n",
       "      <td>13.019039</td>\n",
       "      <td>0.037049</td>\n",
       "      <td>-0.01664</td>\n",
       "      <td>-0.000933</td>\n",
       "      <td>-4.222267</td>\n",
       "      <td>-5.6539</td>\n",
       "      <td>0.3684</td>\n",
       "    </tr>\n",
       "    <tr>\n",
       "      <th>7999</th>\n",
       "      <td>319.96</td>\n",
       "      <td>-165.864517</td>\n",
       "      <td>118.413170</td>\n",
       "      <td>-2.569713</td>\n",
       "      <td>12.801240</td>\n",
       "      <td>0.051131</td>\n",
       "      <td>-0.01218</td>\n",
       "      <td>-0.000684</td>\n",
       "      <td>-4.165312</td>\n",
       "      <td>-5.8320</td>\n",
       "      <td>0.4159</td>\n",
       "    </tr>\n",
       "  </tbody>\n",
       "</table>\n",
       "<p>8000 rows × 11 columns</p>\n",
       "</div>"
      ],
      "text/plain": [
       "        time           x           y       psi         vx        vy        r  \\\n",
       "0       0.00 -101.308861   19.530313 -2.566862  14.049075  0.064813 -0.00306   \n",
       "1       0.04 -101.002190   19.059580 -2.566963  14.046067  0.070796 -0.00887   \n",
       "2       0.08 -100.695587   18.588818 -2.567172  14.046994  0.067643 -0.00909   \n",
       "3       0.12 -100.389305   18.117285 -2.567444  14.055491  0.059404 -0.01306   \n",
       "4       0.16 -100.082977   17.645878 -2.567532  14.051016  0.066986  0.00144   \n",
       "...      ...         ...         ...       ...        ...       ...      ...   \n",
       "7995  319.80 -167.020935  120.190155 -2.566120  13.627166  0.029047 -0.02381   \n",
       "7996  319.84 -166.724564  119.735992 -2.567150  13.422322  0.042470 -0.02686   \n",
       "7997  319.88 -166.433014  119.288536 -2.568222  13.224626  0.034855 -0.02117   \n",
       "7998  319.92 -166.146347  118.847389 -2.569167  13.019039  0.037049 -0.01664   \n",
       "7999  319.96 -165.864517  118.413170 -2.569713  12.801240  0.051131 -0.01218   \n",
       "\n",
       "         steer         D  real_ax  real_ay  \n",
       "0     0.001073 -0.419252  -0.2477   0.5202  \n",
       "1     0.001056 -0.419129  -0.1003   0.1653  \n",
       "2     0.001126 -0.413074  -0.0117   0.0054  \n",
       "3     0.001246 -0.449214  -0.0894  -0.0761  \n",
       "4     0.001262 -0.433608  -0.0839   0.5010  \n",
       "...        ...       ...      ...      ...  \n",
       "7995 -0.002339 -4.265322  -5.6695  -0.0485  \n",
       "7996 -0.001983 -4.274560  -4.9157   0.0203  \n",
       "7997 -0.001433 -4.278177  -5.2175  -0.7925  \n",
       "7998 -0.000933 -4.222267  -5.6539   0.3684  \n",
       "7999 -0.000684 -4.165312  -5.8320   0.4159  \n",
       "\n",
       "[8000 rows x 11 columns]"
      ]
     },
     "execution_count": 417,
     "metadata": {},
     "output_type": "execute_result"
    }
   ],
   "source": [
    "data"
   ]
  },
  {
   "cell_type": "code",
   "execution_count": 418,
   "metadata": {},
   "outputs": [
    {
     "data": {
      "text/plain": [
       "(251, 6)"
      ]
     },
     "execution_count": 418,
     "metadata": {},
     "output_type": "execute_result"
    }
   ],
   "source": [
    "pred = odeint(bicycle_model, u0, t, args=(p0,))\n",
    "pred.shape"
   ]
  },
  {
   "cell_type": "code",
   "execution_count": 419,
   "metadata": {},
   "outputs": [],
   "source": [
    "sol = data[data.time.between(0, timespan)][data.columns[1:7]].to_numpy()"
   ]
  },
  {
   "cell_type": "code",
   "execution_count": 420,
   "metadata": {},
   "outputs": [
    {
     "data": {
      "text/plain": [
       "(251, 6)"
      ]
     },
     "execution_count": 420,
     "metadata": {},
     "output_type": "execute_result"
    }
   ],
   "source": [
    "sol.shape"
   ]
  },
  {
   "cell_type": "code",
   "execution_count": 421,
   "metadata": {},
   "outputs": [],
   "source": [
    "# TODO: probably want to normalize this error\n",
    "l2 = np.square(sol - pred).sum()\n",
    "\n",
    "def cost(p):\n",
    "    pred = odeint(bicycle_model, u0, t, args=(p,))\n",
    "    return np.square(sol - pred).sum()"
   ]
  },
  {
   "cell_type": "code",
   "execution_count": 423,
   "metadata": {},
   "outputs": [],
   "source": [
    "minimization = minimize(cost, p0, method='Nelder-Mead', tol=1000, options={'maxiter':1e3})"
   ]
  },
  {
   "cell_type": "code",
   "execution_count": 424,
   "metadata": {},
   "outputs": [],
   "source": [
    "def plot_new_params(p):\n",
    "    new_sol = odeint(bicycle_model, u0, t, args=(p,))\n",
    "    \n",
    "    # let's plot this solution to see what it looks like against the real\n",
    "    plt.plot(t, new_sol[:, 0], 'r', label='model output x')\n",
    "    plt.plot(t, data['x'][:num_pts], 'tomato', label='real x')\n",
    "    plt.plot(t, new_sol[:, 1], 'b', label='model output y')\n",
    "    plt.plot(t, data['y'][:num_pts], 'dodgerblue', label='real y')\n",
    "    plt.plot(t, new_sol[:, 2], 'g', label='model output psi')\n",
    "    plt.plot(t, data['psi'][:num_pts], 'springgreen', label='real psi')\n",
    "\n",
    "\n",
    "    plt.legend(loc='best')\n",
    "    plt.xlabel('t')\n",
    "    plt.show()\n",
    "    \n",
    "    \n",
    "    # let's plot just the xy trajectory\n",
    "    plt.plot(new_sol[:, 0], new_sol[:, 1], 'darkviolet', label='model output trajectory')\n",
    "    plt.plot(data['x'][:num_pts], data['y'][:num_pts], 'violet', label='real trajectory')\n",
    "    plt.legend(loc='best')\n",
    "    plt.xlabel('x')\n",
    "    plt.ylabel('y')\n",
    "    plt.show()"
   ]
  },
  {
   "cell_type": "code",
   "execution_count": 425,
   "metadata": {
    "scrolled": false
   },
   "outputs": [
    {
     "name": "stderr",
     "output_type": "stream",
     "text": [
      "/usr/lib/python3/dist-packages/matplotlib/cbook/__init__.py:1402: FutureWarning: Support for multi-dimensional indexing (e.g. `obj[:, None]`) is deprecated and will be removed in a future version.  Convert to a numpy array before indexing instead.\n",
      "  ndim = x[:, None].ndim\n",
      "/usr/lib/python3/dist-packages/matplotlib/axes/_base.py:278: FutureWarning: Support for multi-dimensional indexing (e.g. `obj[:, None]`) is deprecated and will be removed in a future version.  Convert to a numpy array before indexing instead.\n",
      "  y = y[:, np.newaxis]\n"
     ]
    },
    {
     "data": {
      "image/png": "[encoded data removed]",
      "text/plain": [
       "<Figure size 432x288 with 1 Axes>"
      ]
     },
     "metadata": {
      "needs_background": "light"
     },
     "output_type": "display_data"
    },
    {
     "name": "stderr",
     "output_type": "stream",
     "text": [
      "/usr/lib/python3/dist-packages/matplotlib/axes/_base.py:276: FutureWarning: Support for multi-dimensional indexing (e.g. `obj[:, None]`) is deprecated and will be removed in a future version.  Convert to a numpy array before indexing instead.\n",
      "  x = x[:, np.newaxis]\n"
     ]
    },
    {
     "data": {
      "image/png": "[encoded data removed]",
      "text/plain": [
       "<Figure size 432x288 with 1 Axes>"
      ]
     },
     "metadata": {
      "needs_background": "light"
     },
     "output_type": "display_data"
    }
   ],
   "source": [
    "plot_new_params(tuple(minimization.x))"
   ]
  },
  {
   "cell_type": "code",
   "execution_count": null,
   "metadata": {},
   "outputs": [],
   "source": []
  },
  {
   "cell_type": "code",
   "execution_count": null,
   "metadata": {},
   "outputs": [],
   "source": []
  }
 ],
 "metadata": {
  "kernelspec": {
   "display_name": "Python 3",
   "language": "python",
   "name": "python3"
  },
  "language_info": {
   "codemirror_mode": {
    "name": "ipython",
    "version": 3
   },
   "file_extension": ".py",
   "mimetype": "text/x-python",
   "name": "python",
   "nbconvert_exporter": "python",
   "pygments_lexer": "ipython3",
   "version": "3.8.5"
  }
 },
 "nbformat": 4,
 "nbformat_minor": 2
}
