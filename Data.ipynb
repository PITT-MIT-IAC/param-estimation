{
 "cells": [
  {
   "cell_type": "code",
   "execution_count": 1,
   "id": "facial-button",
   "metadata": {},
   "outputs": [],
   "source": [
    "from scipy.integrate import odeint\n",
    "from scipy.optimize import minimize\n",
    "from scipy.io import loadmat\n",
    "import numpy as np\n",
    "import matplotlib.pyplot as plt\n",
    "import pandas as pd\n",
    "import math"
   ]
  },
  {
   "cell_type": "markdown",
   "id": "controlled-dryer",
   "metadata": {},
   "source": [
    "# Gathering Data"
   ]
  },
  {
   "cell_type": "code",
   "execution_count": 57,
   "id": "optional-numbers",
   "metadata": {},
   "outputs": [],
   "source": [
    "mat = loadmat('20210201_run3_data.mat')\n",
    "# this gives us a dictionary of arrays.. here are the values that we need to extract to look at\n",
    "# crop to entries 11600:91200 (275s to 595s) in the Run3 file\n",
    "# X- OXT_E\n",
    "# Y- OXT_N\n",
    "# yaw- OXT_aYaw\n",
    "# Vx- OXT_vxCG\n",
    "# Vy- OXT_vyCG\n",
    "# yawrate- OXT_nYaw\n",
    "# steer angle- CMD_aWheelFSteer (this is in degrees so * pi/180 to get radians) \n",
    "# accel request- CMD_gLongRequest (in g so *9.8 to get m/s)\n",
    "# real ax- OXT_axCG\n",
    "# real ay- OXT_ayCG"
   ]
  },
  {
   "cell_type": "code",
   "execution_count": 58,
   "id": "elect-victor",
   "metadata": {},
   "outputs": [],
   "source": [
    "time = mat['Time'][:,0]\n",
    "x = mat['OXT_E']\n",
    "y = mat['OXT_N']\n",
    "psi = mat['OXT_aYaw']\n",
    "vx = mat['OXT_vxCG']\n",
    "vy = mat['OXT_vyCG']\n",
    "r = mat['OXT_nYaw']\n",
    "steer = mat['CMD_aWheelFSteer'] # in degrees so * pi/180 to get radians\n",
    "D = mat['CMD_gLongRequest'] # in g so *9.8 to get m/s\n",
    "real_ax = mat['OXT_axCG']\n",
    "real_ay = mat['OXT_ayCG']"
   ]
  },
  {
   "cell_type": "code",
   "execution_count": 59,
   "id": "usual-adrian",
   "metadata": {},
   "outputs": [],
   "source": [
    "# atime = 275.036 # start the data\n",
    "atime = time[40000]\n",
    "btime = 595"
   ]
  },
  {
   "cell_type": "code",
   "execution_count": 60,
   "id": "located-english",
   "metadata": {},
   "outputs": [],
   "source": [
    "df = pd.DataFrame(x[(x[:,0] >= atime) & (x[:,0] <= btime)], columns=['time', 'x'])\n",
    "df['x'] -= df['x'][0] # shift coordinate to start at 0\n",
    "df['x'] *= -1\n",
    "df['time'] -= df['time'][0]\n",
    "data = [y, psi, vx, vy, r, steer, D, real_ax, real_ay]\n",
    "labels = ['y', 'psi', 'vx', 'vy', 'r', 'steer', 'D', 'real_ax', 'real_ay']\n",
    "\n",
    "for i in range(len(data)):\n",
    "    label = labels[i] # get label\n",
    "#     print(label)\n",
    "    time_cut_data = data[i][(data[i][:,0] >= atime) & (data[i][:,0] <= btime)] # get 2d array in time frame\n",
    "    if label in ('steer', 'D'):\n",
    "        # we need to downsample\n",
    "        time_cut_data = time_cut_data[::10]\n",
    "        \n",
    "    # manually check that they line up correctly\n",
    "    # print(time_cut_data[:,0][:5])\n",
    "    # print(time_cut_data[:,0][-5:])\n",
    "    # print(time_cut_data.shape)\n",
    "    \n",
    "    values = time_cut_data[:,1] # now extract the actual column value\n",
    "    \n",
    "    if label == 'steer':\n",
    "        # multiply pi/180 to get rad\n",
    "        values *= math.pi / 180\n",
    "    elif label == 'D':\n",
    "        # multiple by 9.8 to get m/s^2\n",
    "        values *= 9.8\n",
    "#     elif label == 'psi':\n",
    "#         values += math.pi / 5\n",
    "    elif label == 'y':\n",
    "        values -= values[0]\n",
    "\n",
    "    \n",
    "    df[labels[i]] = time_cut_data[:,1] # now extract the actual column value\n",
    "    \n",
    "df.to_csv('20210201_parsed_run3_data.csv')"
   ]
  },
  {
   "cell_type": "code",
   "execution_count": 61,
   "id": "instrumental-separate",
   "metadata": {},
   "outputs": [
    {
     "data": {
      "text/html": [
       "<div>\n",
       "<style scoped>\n",
       "    .dataframe tbody tr th:only-of-type {\n",
       "        vertical-align: middle;\n",
       "    }\n",
       "\n",
       "    .dataframe tbody tr th {\n",
       "        vertical-align: top;\n",
       "    }\n",
       "\n",
       "    .dataframe thead th {\n",
       "        text-align: right;\n",
       "    }\n",
       "</style>\n",
       "<table border=\"1\" class=\"dataframe\">\n",
       "  <thead>\n",
       "    <tr style=\"text-align: right;\">\n",
       "      <th></th>\n",
       "      <th>time</th>\n",
       "      <th>x</th>\n",
       "      <th>y</th>\n",
       "      <th>psi</th>\n",
       "      <th>vx</th>\n",
       "      <th>vy</th>\n",
       "      <th>r</th>\n",
       "      <th>steer</th>\n",
       "      <th>D</th>\n",
       "      <th>real_ax</th>\n",
       "      <th>real_ay</th>\n",
       "    </tr>\n",
       "  </thead>\n",
       "  <tbody>\n",
       "    <tr>\n",
       "      <th>0</th>\n",
       "      <td>0.00</td>\n",
       "      <td>-0.000000</td>\n",
       "      <td>0.000000</td>\n",
       "      <td>-0.123003</td>\n",
       "      <td>13.915932</td>\n",
       "      <td>-0.126266</td>\n",
       "      <td>-0.19186</td>\n",
       "      <td>-0.036206</td>\n",
       "      <td>-0.149729</td>\n",
       "      <td>0.0504</td>\n",
       "      <td>-3.3986</td>\n",
       "    </tr>\n",
       "    <tr>\n",
       "      <th>1</th>\n",
       "      <td>0.04</td>\n",
       "      <td>-0.076279</td>\n",
       "      <td>0.551727</td>\n",
       "      <td>-0.130858</td>\n",
       "      <td>13.919109</td>\n",
       "      <td>-0.146419</td>\n",
       "      <td>-0.20621</td>\n",
       "      <td>-0.036868</td>\n",
       "      <td>-0.185031</td>\n",
       "      <td>0.1897</td>\n",
       "      <td>-2.9570</td>\n",
       "    </tr>\n",
       "    <tr>\n",
       "      <th>2</th>\n",
       "      <td>0.08</td>\n",
       "      <td>-0.156204</td>\n",
       "      <td>1.102882</td>\n",
       "      <td>-0.138590</td>\n",
       "      <td>13.919418</td>\n",
       "      <td>-0.127803</td>\n",
       "      <td>-0.19212</td>\n",
       "      <td>-0.037669</td>\n",
       "      <td>-0.180356</td>\n",
       "      <td>-0.2496</td>\n",
       "      <td>-1.5378</td>\n",
       "    </tr>\n",
       "    <tr>\n",
       "      <th>3</th>\n",
       "      <td>0.12</td>\n",
       "      <td>-0.240891</td>\n",
       "      <td>1.653343</td>\n",
       "      <td>-0.146515</td>\n",
       "      <td>13.918476</td>\n",
       "      <td>-0.123647</td>\n",
       "      <td>-0.20848</td>\n",
       "      <td>-0.038655</td>\n",
       "      <td>-0.150180</td>\n",
       "      <td>0.1214</td>\n",
       "      <td>-3.7601</td>\n",
       "    </tr>\n",
       "    <tr>\n",
       "      <th>4</th>\n",
       "      <td>0.16</td>\n",
       "      <td>-0.330551</td>\n",
       "      <td>2.202995</td>\n",
       "      <td>-0.154836</td>\n",
       "      <td>13.917126</td>\n",
       "      <td>-0.148707</td>\n",
       "      <td>-0.20355</td>\n",
       "      <td>-0.040018</td>\n",
       "      <td>-0.146335</td>\n",
       "      <td>-0.1553</td>\n",
       "      <td>-3.0901</td>\n",
       "    </tr>\n",
       "    <tr>\n",
       "      <th>...</th>\n",
       "      <td>...</td>\n",
       "      <td>...</td>\n",
       "      <td>...</td>\n",
       "      <td>...</td>\n",
       "      <td>...</td>\n",
       "      <td>...</td>\n",
       "      <td>...</td>\n",
       "      <td>...</td>\n",
       "      <td>...</td>\n",
       "      <td>...</td>\n",
       "      <td>...</td>\n",
       "    </tr>\n",
       "    <tr>\n",
       "      <th>5123</th>\n",
       "      <td>204.92</td>\n",
       "      <td>-79.963593</td>\n",
       "      <td>-7.033867</td>\n",
       "      <td>-2.566120</td>\n",
       "      <td>13.627166</td>\n",
       "      <td>0.029047</td>\n",
       "      <td>-0.02381</td>\n",
       "      <td>-0.002387</td>\n",
       "      <td>-4.272755</td>\n",
       "      <td>-5.6695</td>\n",
       "      <td>-0.0485</td>\n",
       "    </tr>\n",
       "    <tr>\n",
       "      <th>5124</th>\n",
       "      <td>204.96</td>\n",
       "      <td>-80.259964</td>\n",
       "      <td>-7.488029</td>\n",
       "      <td>-2.567150</td>\n",
       "      <td>13.422322</td>\n",
       "      <td>0.042470</td>\n",
       "      <td>-0.02686</td>\n",
       "      <td>-0.001995</td>\n",
       "      <td>-4.264626</td>\n",
       "      <td>-4.9157</td>\n",
       "      <td>0.0203</td>\n",
       "    </tr>\n",
       "    <tr>\n",
       "      <th>5125</th>\n",
       "      <td>205.00</td>\n",
       "      <td>-80.551514</td>\n",
       "      <td>-7.935486</td>\n",
       "      <td>-2.568222</td>\n",
       "      <td>13.224626</td>\n",
       "      <td>0.034855</td>\n",
       "      <td>-0.02117</td>\n",
       "      <td>-0.001501</td>\n",
       "      <td>-4.272468</td>\n",
       "      <td>-5.2175</td>\n",
       "      <td>-0.7925</td>\n",
       "    </tr>\n",
       "    <tr>\n",
       "      <th>5126</th>\n",
       "      <td>205.04</td>\n",
       "      <td>-80.838181</td>\n",
       "      <td>-8.376633</td>\n",
       "      <td>-2.569167</td>\n",
       "      <td>13.019039</td>\n",
       "      <td>0.037049</td>\n",
       "      <td>-0.01664</td>\n",
       "      <td>-0.001037</td>\n",
       "      <td>-4.236550</td>\n",
       "      <td>-5.6539</td>\n",
       "      <td>0.3684</td>\n",
       "    </tr>\n",
       "    <tr>\n",
       "      <th>5127</th>\n",
       "      <td>205.08</td>\n",
       "      <td>-81.120010</td>\n",
       "      <td>-8.810852</td>\n",
       "      <td>-2.569713</td>\n",
       "      <td>12.801240</td>\n",
       "      <td>0.051131</td>\n",
       "      <td>-0.01218</td>\n",
       "      <td>-0.000687</td>\n",
       "      <td>-4.170835</td>\n",
       "      <td>-5.8320</td>\n",
       "      <td>0.4159</td>\n",
       "    </tr>\n",
       "  </tbody>\n",
       "</table>\n",
       "<p>5128 rows × 11 columns</p>\n",
       "</div>"
      ],
      "text/plain": [
       "        time          x         y       psi         vx        vy        r  \\\n",
       "0       0.00  -0.000000  0.000000 -0.123003  13.915932 -0.126266 -0.19186   \n",
       "1       0.04  -0.076279  0.551727 -0.130858  13.919109 -0.146419 -0.20621   \n",
       "2       0.08  -0.156204  1.102882 -0.138590  13.919418 -0.127803 -0.19212   \n",
       "3       0.12  -0.240891  1.653343 -0.146515  13.918476 -0.123647 -0.20848   \n",
       "4       0.16  -0.330551  2.202995 -0.154836  13.917126 -0.148707 -0.20355   \n",
       "...      ...        ...       ...       ...        ...       ...      ...   \n",
       "5123  204.92 -79.963593 -7.033867 -2.566120  13.627166  0.029047 -0.02381   \n",
       "5124  204.96 -80.259964 -7.488029 -2.567150  13.422322  0.042470 -0.02686   \n",
       "5125  205.00 -80.551514 -7.935486 -2.568222  13.224626  0.034855 -0.02117   \n",
       "5126  205.04 -80.838181 -8.376633 -2.569167  13.019039  0.037049 -0.01664   \n",
       "5127  205.08 -81.120010 -8.810852 -2.569713  12.801240  0.051131 -0.01218   \n",
       "\n",
       "         steer         D  real_ax  real_ay  \n",
       "0    -0.036206 -0.149729   0.0504  -3.3986  \n",
       "1    -0.036868 -0.185031   0.1897  -2.9570  \n",
       "2    -0.037669 -0.180356  -0.2496  -1.5378  \n",
       "3    -0.038655 -0.150180   0.1214  -3.7601  \n",
       "4    -0.040018 -0.146335  -0.1553  -3.0901  \n",
       "...        ...       ...      ...      ...  \n",
       "5123 -0.002387 -4.272755  -5.6695  -0.0485  \n",
       "5124 -0.001995 -4.264626  -4.9157   0.0203  \n",
       "5125 -0.001501 -4.272468  -5.2175  -0.7925  \n",
       "5126 -0.001037 -4.236550  -5.6539   0.3684  \n",
       "5127 -0.000687 -4.170835  -5.8320   0.4159  \n",
       "\n",
       "[5128 rows x 11 columns]"
      ]
     },
     "execution_count": 61,
     "metadata": {},
     "output_type": "execute_result"
    }
   ],
   "source": [
    "df"
   ]
  },
  {
   "cell_type": "markdown",
   "id": "proved-brother",
   "metadata": {},
   "source": [
    "# Plotting to Find Bug"
   ]
  },
  {
   "cell_type": "code",
   "execution_count": 7,
   "id": "julian-tribute",
   "metadata": {},
   "outputs": [],
   "source": [
    "# df['psi'] += math.pi/2"
   ]
  },
  {
   "cell_type": "code",
   "execution_count": 8,
   "id": "concrete-tribune",
   "metadata": {},
   "outputs": [],
   "source": [
    "# df['psi'] = (df['psi'] + 2 * np.pi) % (2 * np.pi)"
   ]
  },
  {
   "cell_type": "code",
   "execution_count": 9,
   "id": "sixth-minister",
   "metadata": {},
   "outputs": [
    {
     "name": "stderr",
     "output_type": "stream",
     "text": [
      "/usr/lib/python3/dist-packages/matplotlib/cbook/__init__.py:1402: FutureWarning: Support for multi-dimensional indexing (e.g. `obj[:, None]`) is deprecated and will be removed in a future version.  Convert to a numpy array before indexing instead.\n",
      "  ndim = x[:, None].ndim\n",
      "/usr/lib/python3/dist-packages/matplotlib/axes/_base.py:276: FutureWarning: Support for multi-dimensional indexing (e.g. `obj[:, None]`) is deprecated and will be removed in a future version.  Convert to a numpy array before indexing instead.\n",
      "  x = x[:, np.newaxis]\n",
      "/usr/lib/python3/dist-packages/matplotlib/axes/_base.py:278: FutureWarning: Support for multi-dimensional indexing (e.g. `obj[:, None]`) is deprecated and will be removed in a future version.  Convert to a numpy array before indexing instead.\n",
      "  y = y[:, np.newaxis]\n"
     ]
    },
    {
     "data": {
      "image/png": "[encoded data removed]",
      "text/plain": [
       "<Figure size 432x288 with 1 Axes>"
      ]
     },
     "metadata": {
      "needs_background": "light"
     },
     "output_type": "display_data"
    }
   ],
   "source": [
    "# x y coords\n",
    "num_pts = 2000\n",
    "# plt.plot(sol.y[0, :], sol.y[1, :], 'darkviolet', label='model output trajectory')\n",
    "plt.plot(df['x'][:num_pts], df['y'][:num_pts], 'violet', label='real trajectory')\n",
    "# plt.plot(data['x'], data['y'], 'violet', label='real trajectory')\n",
    "plt.legend(loc='best')\n",
    "plt.axis('equal')\n",
    "plt.xlabel('x')\n",
    "plt.ylabel('y')\n",
    "plt.show()"
   ]
  },
  {
   "cell_type": "code",
   "execution_count": 10,
   "id": "peripheral-sample",
   "metadata": {},
   "outputs": [
    {
     "data": {
      "image/png": "[encoded data removed]",
      "text/plain": [
       "<Figure size 432x288 with 1 Axes>"
      ]
     },
     "metadata": {
      "needs_background": "light"
     },
     "output_type": "display_data"
    }
   ],
   "source": [
    "# x y coords\n",
    "num_pts = 2500\n",
    "# plt.plot(sol.y[0, :], sol.y[1, :], 'darkviolet', label='model output trajectory')\n",
    "plt.plot(df['x'][:num_pts], df['y'][:num_pts], 'violet', label='real trajectory')\n",
    "# plt.plot(data['x'], data['y'], 'violet', label='real trajectory')\n",
    "plt.legend(loc='best')\n",
    "plt.axis('equal')\n",
    "plt.xlabel('x')\n",
    "plt.ylabel('y')\n",
    "plt.show()"
   ]
  },
  {
   "cell_type": "code",
   "execution_count": null,
   "id": "level-worst",
   "metadata": {},
   "outputs": [],
   "source": []
  },
  {
   "cell_type": "code",
   "execution_count": 11,
   "id": "fitting-malta",
   "metadata": {},
   "outputs": [
    {
     "data": {
      "image/png": "[encoded data removed]",
      "text/plain": [
       "<Figure size 432x288 with 1 Axes>"
      ]
     },
     "metadata": {
      "needs_background": "light"
     },
     "output_type": "display_data"
    }
   ],
   "source": [
    "# x y coords\n",
    "num_pts = 2500\n",
    "# plt.plot(sol.y[0, :], sol.y[1, :], 'darkviolet', label='model output trajectory')\n",
    "plt.plot(df['time'][:num_pts], df['x'][:num_pts], 'red', label='x')\n",
    "plt.plot(df['time'][:num_pts], df['y'][:num_pts], 'blue', label='y')\n",
    "# plt.plot(data['x'], data['y'], 'violet', label='real trajectory')\n",
    "plt.legend(loc='best')\n",
    "# plt.axis('equal')\n",
    "plt.xlabel('t')\n",
    "plt.ylabel('position')\n",
    "plt.show()"
   ]
  },
  {
   "cell_type": "code",
   "execution_count": 12,
   "id": "closed-amplifier",
   "metadata": {},
   "outputs": [
    {
     "data": {
      "image/png": "[encoded data removed]",
      "text/plain": [
       "<Figure size 432x288 with 1 Axes>"
      ]
     },
     "metadata": {
      "needs_background": "light"
     },
     "output_type": "display_data"
    }
   ],
   "source": [
    "plt.plot(df['time'][:num_pts], df['psi'][:num_pts], 'violet', label='psi')\n",
    "plt.legend(loc='best')\n",
    "# plt.axis('equal')\n",
    "plt.xlabel('t')\n",
    "plt.ylabel('psi')\n",
    "plt.show()"
   ]
  },
  {
   "cell_type": "code",
   "execution_count": null,
   "id": "dated-election",
   "metadata": {},
   "outputs": [],
   "source": []
  }
 ],
 "metadata": {
  "kernelspec": {
   "display_name": "Python 3",
   "language": "python",
   "name": "python3"
  },
  "language_info": {
   "codemirror_mode": {
    "name": "ipython",
    "version": 3
   },
   "file_extension": ".py",
   "mimetype": "text/x-python",
   "name": "python",
   "nbconvert_exporter": "python",
   "pygments_lexer": "ipython3",
   "version": "3.8.5"
  }
 },
 "nbformat": 4,
 "nbformat_minor": 5
}
