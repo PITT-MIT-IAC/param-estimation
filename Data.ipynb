{
 "cells": [
  {
   "cell_type": "code",
   "execution_count": 239,
   "id": "facial-button",
   "metadata": {},
   "outputs": [],
   "source": [
    "from scipy.integrate import odeint\n",
    "from scipy.optimize import minimize\n",
    "from scipy.io import loadmat\n",
    "import numpy as np\n",
    "import matplotlib.pyplot as plt\n",
    "import pandas as pd\n",
    "import math"
   ]
  },
  {
   "cell_type": "markdown",
   "id": "controlled-dryer",
   "metadata": {},
   "source": [
    "# Gathering Data"
   ]
  },
  {
   "cell_type": "code",
   "execution_count": 240,
   "id": "optional-numbers",
   "metadata": {},
   "outputs": [],
   "source": [
    "mat = loadmat('20210201_run3_data.mat')\n",
    "# this gives us a dictionary of arrays.. here are the values that we need to extract to look at\n",
    "# crop to entries 11600:91200 (275s to 595s) in the Run3 file\n",
    "# X- OXT_E\n",
    "# Y- OXT_N\n",
    "# yaw- OXT_aYaw\n",
    "# Vx- OXT_vxCG\n",
    "# Vy- OXT_vyCG\n",
    "# yawrate- OXT_nYaw\n",
    "# steer angle- CMD_aWheelFSteer (this is in degrees so * pi/180 to get radians) \n",
    "# accel request- CMD_gLongRequest (in g so *9.8 to get m/s)\n",
    "# real ax- OXT_axCG\n",
    "# real ay- OXT_ayCG"
   ]
  },
  {
   "cell_type": "code",
   "execution_count": 241,
   "id": "elect-victor",
   "metadata": {},
   "outputs": [],
   "source": [
    "time = mat['Time'][:,0]\n",
    "x = mat['OXT_E']\n",
    "y = mat['OXT_N']\n",
    "psi = mat['OXT_aYaw']\n",
    "vx = mat['OXT_vxCG']\n",
    "vy = mat['OXT_vyCG']\n",
    "r = mat['OXT_nYaw']\n",
    "steer = mat['CMD_aWheelFSteer'] # in degrees so * pi/180 to get radians\n",
    "D = mat['CMD_gLongRequest'] # in g so *9.8 to get m/s\n",
    "real_ax = mat['OXT_axCG']\n",
    "real_ay = mat['OXT_ayCG']"
   ]
  },
  {
   "cell_type": "code",
   "execution_count": 242,
   "id": "usual-adrian",
   "metadata": {},
   "outputs": [],
   "source": [
    "# atime = 275.036 # start the data\n",
    "atime = time[60000]\n",
    "btime = 595"
   ]
  },
  {
   "cell_type": "code",
   "execution_count": 243,
   "id": "located-english",
   "metadata": {},
   "outputs": [],
   "source": [
    "df = pd.DataFrame(x[(x[:,0] >= atime) & (x[:,0] <= btime)], columns=['time', 'x'])\n",
    "df['x'] -= df['x'][0] # shift coordinate to start at 0\n",
    "df['x'] *= -1\n",
    "df['time'] -= df['time'][0]\n",
    "data = [y, psi, vx, vy, r, steer, D, real_ax, real_ay]\n",
    "labels = ['y', 'psi', 'vx', 'vy', 'r', 'steer', 'D', 'real_ax', 'real_ay']\n",
    "\n",
    "for i in range(len(data)):\n",
    "    label = labels[i] # get label\n",
    "#     print(label)\n",
    "    time_cut_data = data[i][(data[i][:,0] >= atime) & (data[i][:,0] <= btime)] # get 2d array in time frame\n",
    "    if label in ('steer', 'D'):\n",
    "        # we need to downsample\n",
    "        time_cut_data = time_cut_data[::10]\n",
    "        \n",
    "    # manually check that they line up correctly\n",
    "    # print(time_cut_data[:,0][:5])\n",
    "    # print(time_cut_data[:,0][-5:])\n",
    "    # print(time_cut_data.shape)\n",
    "    \n",
    "    values = time_cut_data[:,1] # now extract the actual column value\n",
    "    \n",
    "    if label == 'steer':\n",
    "        # multiply pi/180 to get rad\n",
    "        values *= math.pi / 180\n",
    "    elif label == 'D':\n",
    "        # multiple by 9.8 to get m/s^2\n",
    "        values *= 9.8\n",
    "    elif label == 'psi':\n",
    "        values += math.pi * 1.12\n",
    "    elif label == 'y':\n",
    "        values -= values[0]\n",
    "\n",
    "    \n",
    "    df[labels[i]] = time_cut_data[:,1] # now extract the actual column value\n",
    "    \n",
    "df.to_csv('20210201_parsed_run3_data.csv')"
   ]
  },
  {
   "cell_type": "code",
   "execution_count": 233,
   "id": "instrumental-separate",
   "metadata": {},
   "outputs": [
    {
     "data": {
      "text/html": [
       "<div>\n",
       "<style scoped>\n",
       "    .dataframe tbody tr th:only-of-type {\n",
       "        vertical-align: middle;\n",
       "    }\n",
       "\n",
       "    .dataframe tbody tr th {\n",
       "        vertical-align: top;\n",
       "    }\n",
       "\n",
       "    .dataframe thead th {\n",
       "        text-align: right;\n",
       "    }\n",
       "</style>\n",
       "<table border=\"1\" class=\"dataframe\">\n",
       "  <thead>\n",
       "    <tr style=\"text-align: right;\">\n",
       "      <th></th>\n",
       "      <th>time</th>\n",
       "      <th>x</th>\n",
       "      <th>y</th>\n",
       "      <th>psi</th>\n",
       "      <th>vx</th>\n",
       "      <th>vy</th>\n",
       "      <th>r</th>\n",
       "      <th>steer</th>\n",
       "      <th>D</th>\n",
       "      <th>real_ax</th>\n",
       "      <th>real_ay</th>\n",
       "    </tr>\n",
       "  </thead>\n",
       "  <tbody>\n",
       "    <tr>\n",
       "      <th>0</th>\n",
       "      <td>469.916</td>\n",
       "      <td>-0.000000</td>\n",
       "      <td>0.000000</td>\n",
       "      <td>2.521288</td>\n",
       "      <td>20.914034</td>\n",
       "      <td>0.033644</td>\n",
       "      <td>-0.01642</td>\n",
       "      <td>0.000719</td>\n",
       "      <td>-0.254461</td>\n",
       "      <td>-0.2095</td>\n",
       "      <td>0.2194</td>\n",
       "    </tr>\n",
       "    <tr>\n",
       "      <th>1</th>\n",
       "      <td>469.956</td>\n",
       "      <td>-0.689575</td>\n",
       "      <td>0.474304</td>\n",
       "      <td>2.520757</td>\n",
       "      <td>20.925581</td>\n",
       "      <td>0.040599</td>\n",
       "      <td>-0.01548</td>\n",
       "      <td>0.001095</td>\n",
       "      <td>-0.271038</td>\n",
       "      <td>0.3387</td>\n",
       "      <td>-0.4859</td>\n",
       "    </tr>\n",
       "    <tr>\n",
       "      <th>2</th>\n",
       "      <td>469.996</td>\n",
       "      <td>-1.379486</td>\n",
       "      <td>0.948502</td>\n",
       "      <td>2.520299</td>\n",
       "      <td>20.920303</td>\n",
       "      <td>0.033280</td>\n",
       "      <td>-0.01133</td>\n",
       "      <td>0.001457</td>\n",
       "      <td>-0.306820</td>\n",
       "      <td>-0.2400</td>\n",
       "      <td>-0.1717</td>\n",
       "    </tr>\n",
       "    <tr>\n",
       "      <th>3</th>\n",
       "      <td>470.036</td>\n",
       "      <td>-2.069550</td>\n",
       "      <td>1.422333</td>\n",
       "      <td>2.519940</td>\n",
       "      <td>20.923943</td>\n",
       "      <td>0.040129</td>\n",
       "      <td>0.00004</td>\n",
       "      <td>0.001808</td>\n",
       "      <td>-0.256734</td>\n",
       "      <td>0.3106</td>\n",
       "      <td>-0.4829</td>\n",
       "    </tr>\n",
       "    <tr>\n",
       "      <th>4</th>\n",
       "      <td>470.076</td>\n",
       "      <td>-2.759766</td>\n",
       "      <td>1.896225</td>\n",
       "      <td>2.519658</td>\n",
       "      <td>20.925726</td>\n",
       "      <td>0.038360</td>\n",
       "      <td>-0.00244</td>\n",
       "      <td>0.002118</td>\n",
       "      <td>-0.289739</td>\n",
       "      <td>-0.1916</td>\n",
       "      <td>-0.7657</td>\n",
       "    </tr>\n",
       "    <tr>\n",
       "      <th>...</th>\n",
       "      <td>...</td>\n",
       "      <td>...</td>\n",
       "      <td>...</td>\n",
       "      <td>...</td>\n",
       "      <td>...</td>\n",
       "      <td>...</td>\n",
       "      <td>...</td>\n",
       "      <td>...</td>\n",
       "      <td>...</td>\n",
       "      <td>...</td>\n",
       "      <td>...</td>\n",
       "    </tr>\n",
       "    <tr>\n",
       "      <th>3123</th>\n",
       "      <td>594.836</td>\n",
       "      <td>-139.352295</td>\n",
       "      <td>351.868683</td>\n",
       "      <td>0.924539</td>\n",
       "      <td>13.627166</td>\n",
       "      <td>0.029047</td>\n",
       "      <td>-0.02381</td>\n",
       "      <td>-0.002387</td>\n",
       "      <td>-4.272755</td>\n",
       "      <td>-5.6695</td>\n",
       "      <td>-0.0485</td>\n",
       "    </tr>\n",
       "    <tr>\n",
       "      <th>3124</th>\n",
       "      <td>594.876</td>\n",
       "      <td>-139.648666</td>\n",
       "      <td>351.414520</td>\n",
       "      <td>0.923508</td>\n",
       "      <td>13.422322</td>\n",
       "      <td>0.042470</td>\n",
       "      <td>-0.02686</td>\n",
       "      <td>-0.001995</td>\n",
       "      <td>-4.264626</td>\n",
       "      <td>-4.9157</td>\n",
       "      <td>0.0203</td>\n",
       "    </tr>\n",
       "    <tr>\n",
       "      <th>3125</th>\n",
       "      <td>594.916</td>\n",
       "      <td>-139.940216</td>\n",
       "      <td>350.967064</td>\n",
       "      <td>0.922436</td>\n",
       "      <td>13.224626</td>\n",
       "      <td>0.034855</td>\n",
       "      <td>-0.02117</td>\n",
       "      <td>-0.001501</td>\n",
       "      <td>-4.272468</td>\n",
       "      <td>-5.2175</td>\n",
       "      <td>-0.7925</td>\n",
       "    </tr>\n",
       "    <tr>\n",
       "      <th>3126</th>\n",
       "      <td>594.956</td>\n",
       "      <td>-140.226883</td>\n",
       "      <td>350.525917</td>\n",
       "      <td>0.921492</td>\n",
       "      <td>13.019039</td>\n",
       "      <td>0.037049</td>\n",
       "      <td>-0.01664</td>\n",
       "      <td>-0.001037</td>\n",
       "      <td>-4.236550</td>\n",
       "      <td>-5.6539</td>\n",
       "      <td>0.3684</td>\n",
       "    </tr>\n",
       "    <tr>\n",
       "      <th>3127</th>\n",
       "      <td>594.996</td>\n",
       "      <td>-140.508713</td>\n",
       "      <td>350.091698</td>\n",
       "      <td>0.920945</td>\n",
       "      <td>12.801240</td>\n",
       "      <td>0.051131</td>\n",
       "      <td>-0.01218</td>\n",
       "      <td>-0.000687</td>\n",
       "      <td>-4.170835</td>\n",
       "      <td>-5.8320</td>\n",
       "      <td>0.4159</td>\n",
       "    </tr>\n",
       "  </tbody>\n",
       "</table>\n",
       "<p>3128 rows × 11 columns</p>\n",
       "</div>"
      ],
      "text/plain": [
       "         time           x           y       psi         vx        vy        r  \\\n",
       "0     469.916   -0.000000    0.000000  2.521288  20.914034  0.033644 -0.01642   \n",
       "1     469.956   -0.689575    0.474304  2.520757  20.925581  0.040599 -0.01548   \n",
       "2     469.996   -1.379486    0.948502  2.520299  20.920303  0.033280 -0.01133   \n",
       "3     470.036   -2.069550    1.422333  2.519940  20.923943  0.040129  0.00004   \n",
       "4     470.076   -2.759766    1.896225  2.519658  20.925726  0.038360 -0.00244   \n",
       "...       ...         ...         ...       ...        ...       ...      ...   \n",
       "3123  594.836 -139.352295  351.868683  0.924539  13.627166  0.029047 -0.02381   \n",
       "3124  594.876 -139.648666  351.414520  0.923508  13.422322  0.042470 -0.02686   \n",
       "3125  594.916 -139.940216  350.967064  0.922436  13.224626  0.034855 -0.02117   \n",
       "3126  594.956 -140.226883  350.525917  0.921492  13.019039  0.037049 -0.01664   \n",
       "3127  594.996 -140.508713  350.091698  0.920945  12.801240  0.051131 -0.01218   \n",
       "\n",
       "         steer         D  real_ax  real_ay  \n",
       "0     0.000719 -0.254461  -0.2095   0.2194  \n",
       "1     0.001095 -0.271038   0.3387  -0.4859  \n",
       "2     0.001457 -0.306820  -0.2400  -0.1717  \n",
       "3     0.001808 -0.256734   0.3106  -0.4829  \n",
       "4     0.002118 -0.289739  -0.1916  -0.7657  \n",
       "...        ...       ...      ...      ...  \n",
       "3123 -0.002387 -4.272755  -5.6695  -0.0485  \n",
       "3124 -0.001995 -4.264626  -4.9157   0.0203  \n",
       "3125 -0.001501 -4.272468  -5.2175  -0.7925  \n",
       "3126 -0.001037 -4.236550  -5.6539   0.3684  \n",
       "3127 -0.000687 -4.170835  -5.8320   0.4159  \n",
       "\n",
       "[3128 rows x 11 columns]"
      ]
     },
     "execution_count": 233,
     "metadata": {},
     "output_type": "execute_result"
    }
   ],
   "source": [
    "df"
   ]
  },
  {
   "cell_type": "markdown",
   "id": "fiscal-imagination",
   "metadata": {},
   "source": [
    "# Plotting to Find Bug"
   ]
  },
  {
   "cell_type": "code",
   "execution_count": 59,
   "id": "impossible-backing",
   "metadata": {},
   "outputs": [],
   "source": [
    "# df['psi'] += math.pi/2"
   ]
  },
  {
   "cell_type": "code",
   "execution_count": 60,
   "id": "european-extent",
   "metadata": {},
   "outputs": [],
   "source": [
    "# df['psi'] = (df['psi'] + 2 * np.pi) % (2 * np.pi)"
   ]
  },
  {
   "cell_type": "code",
   "execution_count": 61,
   "id": "played-authority",
   "metadata": {},
   "outputs": [
    {
     "name": "stderr",
     "output_type": "stream",
     "text": [
      "/usr/lib/python3/dist-packages/matplotlib/cbook/__init__.py:1402: FutureWarning: Support for multi-dimensional indexing (e.g. `obj[:, None]`) is deprecated and will be removed in a future version.  Convert to a numpy array before indexing instead.\n",
      "  ndim = x[:, None].ndim\n",
      "/usr/lib/python3/dist-packages/matplotlib/axes/_base.py:276: FutureWarning: Support for multi-dimensional indexing (e.g. `obj[:, None]`) is deprecated and will be removed in a future version.  Convert to a numpy array before indexing instead.\n",
      "  x = x[:, np.newaxis]\n",
      "/usr/lib/python3/dist-packages/matplotlib/axes/_base.py:278: FutureWarning: Support for multi-dimensional indexing (e.g. `obj[:, None]`) is deprecated and will be removed in a future version.  Convert to a numpy array before indexing instead.\n",
      "  y = y[:, np.newaxis]\n"
     ]
    },
    {
     "data": {
      "image/png": "[encoded data removed]",
      "text/plain": [
       "<Figure size 432x288 with 1 Axes>"
      ]
     },
     "metadata": {
      "needs_background": "light"
     },
     "output_type": "display_data"
    }
   ],
   "source": [
    "# x y coords\n",
    "num_pts = 2000\n",
    "# plt.plot(sol.y[0, :], sol.y[1, :], 'darkviolet', label='model output trajectory')\n",
    "plt.plot(df['x'][:num_pts], df['y'][:num_pts], 'violet', label='real trajectory')\n",
    "# plt.plot(data['x'], data['y'], 'violet', label='real trajectory')\n",
    "plt.legend(loc='best')\n",
    "plt.axis('equal')\n",
    "plt.xlabel('x')\n",
    "plt.ylabel('y')\n",
    "plt.show()"
   ]
  },
  {
   "cell_type": "code",
   "execution_count": 62,
   "id": "regional-horror",
   "metadata": {},
   "outputs": [
    {
     "data": {
      "image/png": "[encoded data removed]",
      "text/plain": [
       "<Figure size 432x288 with 1 Axes>"
      ]
     },
     "metadata": {
      "needs_background": "light"
     },
     "output_type": "display_data"
    }
   ],
   "source": [
    "# x y coords\n",
    "num_pts = 2500\n",
    "# plt.plot(sol.y[0, :], sol.y[1, :], 'darkviolet', label='model output trajectory')\n",
    "plt.plot(df['x'][:num_pts], df['y'][:num_pts], 'violet', label='real trajectory')\n",
    "# plt.plot(data['x'], data['y'], 'violet', label='real trajectory')\n",
    "plt.legend(loc='best')\n",
    "plt.axis('equal')\n",
    "plt.xlabel('x')\n",
    "plt.ylabel('y')\n",
    "plt.show()"
   ]
  },
  {
   "cell_type": "code",
   "execution_count": null,
   "id": "cellular-clearing",
   "metadata": {},
   "outputs": [],
   "source": []
  },
  {
   "cell_type": "code",
   "execution_count": 63,
   "id": "official-kruger",
   "metadata": {},
   "outputs": [
    {
     "data": {
      "image/png": "[encoded data removed]",
      "text/plain": [
       "<Figure size 432x288 with 1 Axes>"
      ]
     },
     "metadata": {
      "needs_background": "light"
     },
     "output_type": "display_data"
    }
   ],
   "source": [
    "# x y coords\n",
    "num_pts = 2500\n",
    "# plt.plot(sol.y[0, :], sol.y[1, :], 'darkviolet', label='model output trajectory')\n",
    "plt.plot(df['time'][:num_pts], df['x'][:num_pts], 'red', label='x')\n",
    "plt.plot(df['time'][:num_pts], df['y'][:num_pts], 'blue', label='y')\n",
    "# plt.plot(data['x'], data['y'], 'violet', label='real trajectory')\n",
    "plt.legend(loc='best')\n",
    "# plt.axis('equal')\n",
    "plt.xlabel('t')\n",
    "plt.ylabel('position')\n",
    "plt.show()"
   ]
  },
  {
   "cell_type": "code",
   "execution_count": 64,
   "id": "beautiful-picture",
   "metadata": {},
   "outputs": [
    {
     "data": {
      "image/png": "[encoded data removed]",
      "text/plain": [
       "<Figure size 432x288 with 1 Axes>"
      ]
     },
     "metadata": {
      "needs_background": "light"
     },
     "output_type": "display_data"
    }
   ],
   "source": [
    "plt.plot(df['time'][:num_pts], df['psi'][:num_pts], 'violet', label='psi')\n",
    "plt.legend(loc='best')\n",
    "# plt.axis('equal')\n",
    "plt.xlabel('t')\n",
    "plt.ylabel('psi')\n",
    "plt.show()"
   ]
  },
  {
   "cell_type": "code",
   "execution_count": null,
   "id": "pacific-mouse",
   "metadata": {},
   "outputs": [],
   "source": []
  }
 ],
 "metadata": {
  "kernelspec": {
   "display_name": "Python 3",
   "language": "python",
   "name": "python3"
  },
  "language_info": {
   "codemirror_mode": {
    "name": "ipython",
    "version": 3
   },
   "file_extension": ".py",
   "mimetype": "text/x-python",
   "name": "python",
   "nbconvert_exporter": "python",
   "pygments_lexer": "ipython3",
   "version": "3.8.5"
  }
 },
 "nbformat": 4,
 "nbformat_minor": 5
}
